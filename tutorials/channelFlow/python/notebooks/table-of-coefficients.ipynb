{
 "cells": [
  {
   "cell_type": "markdown",
   "metadata": {},
   "source": [
    "# Table of coefficient for the Navier slip start-up solution\n",
    "\n"
   ]
  },
  {
   "cell_type": "code",
   "execution_count": 1,
   "metadata": {
    "ExecuteTime": {
     "end_time": "2020-05-18T16:19:12.924144Z",
     "start_time": "2020-05-18T16:19:12.838982Z"
    },
    "scrolled": false
   },
   "outputs": [
    {
     "name": "stdout",
     "output_type": "stream",
     "text": [
      "Writing tables completed.\n"
     ]
    }
   ],
   "source": [
    "import pandas as pd\n",
    "import numpy as np\n",
    "import os\n",
    "\n",
    "from channel import channelFlows\n",
    "\n",
    "# number of series coefficients that are to be computed for each S\n",
    "N = 10\n",
    "\n",
    "N_s_min = -9\n",
    "N_s_max = 0\n",
    "\n",
    "data_folder = os.path.join(os.getcwd(), '../../dat/table_data')\n",
    "if not os.path.exists(data_folder):\n",
    "    os.mkdir(data_folder)\n",
    "\n",
    "exps_int = np.arange(N_s_min, N_s_max+1, 1)\n",
    "exps = np.arange(N_s_min, N_s_max+1, 1, dtype=float)\n",
    "\n",
    "# range of coefficients S\n",
    "S = np.power(10, exps)\n",
    "\n",
    "# accuracy of the bisection method\n",
    "eps = 1e-8\n",
    "tol = 1e-8\n",
    "\n",
    "df_An = pd.DataFrame()\n",
    "df_Kn = pd.DataFrame()\n",
    "coeffs_scaled = channelFlows.StartupCoefficients_scaled()\n",
    "#coeffs_scaled.Kn(0.1, 10, tol, eps)\n",
    "\n",
    "S_str = []\n",
    "for s, exp in zip(S, exps):\n",
    "    Kn = coeffs_scaled.Kn(s, N, tol, eps)\n",
    "    An = coeffs_scaled.An(s, Kn)\n",
    "    Kn = coeffs_scaled.Kn(s, N, tol, eps)\n",
    "    An = coeffs_scaled.An(s, Kn)\n",
    "    df_An[exp] = An\n",
    "    df_Kn[exp] = Kn\n",
    "    S_str.append(r\"$10^{\" + str(int(np.floor(exp))) + r\"}$\")\n",
    "\n",
    "# transpose the table\n",
    "dfs = {'An': df_An, 'Kn': df_Kn}\n",
    "for key, df in dfs.items():\n",
    "    dfs[key] = df.transpose()\n",
    "\n",
    "for key, df in dfs.items():\n",
    "    dfs[key]['S'] = exps\n",
    "    cols = df.columns.to_list()\n",
    "    dfs[key] = df[cols[-1:] + cols[:-1]]\n",
    "    dfs[key].index = range(0, len(df.index))\n",
    "\n",
    "\n",
    "def s_formatter(x):\n",
    "    return \"{:.0e}\".format(10**x)\n",
    "\n",
    "\n",
    "def f_formatter(x):\n",
    "    return \"{:.8e}\".format(x)\n",
    "\n",
    "for key, df in dfs.items():\n",
    "    table_file = open(data_folder + '/' + key.lower()+\"_table_1.tex\", \"w\")\n",
    "    table_file.write(df.iloc[:, [0, 1, 2, 3, 4, 5]].to_latex(\n",
    "        index=False, float_format=f_formatter, formatters={0: s_formatter}))\n",
    "    table_file.close()\n",
    "\n",
    "    table_file = open(data_folder + '/' + key.lower()+\"_table_2.tex\", \"w\")\n",
    "    table_file.write(df.iloc[:, [0, 6, 7, 8, 9, 10]].to_latex(\n",
    "        index=False, float_format=f_formatter, formatters={'S': s_formatter}))\n",
    "    table_file.close()\n",
    "    \n",
    "print('Writing tables completed.')"
   ]
  }
 ],
 "metadata": {
  "hide_input": false,
  "kernelspec": {
   "display_name": "Python 3",
   "language": "python",
   "name": "python3"
  },
  "language_info": {
   "codemirror_mode": {
    "name": "ipython",
    "version": 3
   },
   "file_extension": ".py",
   "mimetype": "text/x-python",
   "name": "python",
   "nbconvert_exporter": "python",
   "pygments_lexer": "ipython3",
   "version": "3.8.3"
  },
  "toc": {
   "base_numbering": 1,
   "nav_menu": {},
   "number_sections": true,
   "sideBar": true,
   "skip_h1_title": false,
   "title_cell": "Table of Contents",
   "title_sidebar": "Contents",
   "toc_cell": false,
   "toc_position": {},
   "toc_section_display": true,
   "toc_window_display": false
  },
  "varInspector": {
   "cols": {
    "lenName": 16,
    "lenType": 16,
    "lenVar": 40
   },
   "kernels_config": {
    "python": {
     "delete_cmd_postfix": "",
     "delete_cmd_prefix": "del ",
     "library": "var_list.py",
     "varRefreshCmd": "print(var_dic_list())"
    },
    "r": {
     "delete_cmd_postfix": ") ",
     "delete_cmd_prefix": "rm(",
     "library": "var_list.r",
     "varRefreshCmd": "cat(var_dic_list()) "
    }
   },
   "types_to_exclude": [
    "module",
    "function",
    "builtin_function_or_method",
    "instance",
    "_Feature"
   ],
   "window_display": false
  }
 },
 "nbformat": 4,
 "nbformat_minor": 2
}
