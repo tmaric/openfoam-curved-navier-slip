{
 "cells": [
  {
   "cell_type": "code",
   "execution_count": 5,
   "metadata": {},
   "outputs": [
    {
     "ename": "ModuleNotFoundError",
     "evalue": "No module named 'channel'",
     "output_type": "error",
     "traceback": [
      "\u001b[0;31m---------------------------------------------------------------------------\u001b[0m",
      "\u001b[0;31mModuleNotFoundError\u001b[0m                       Traceback (most recent call last)",
      "\u001b[0;32m<ipython-input-5-bf2b3edf5a06>\u001b[0m in \u001b[0;36m<module>\u001b[0;34m\u001b[0m\n\u001b[1;32m      6\u001b[0m \u001b[0;32mimport\u001b[0m \u001b[0mnumpy\u001b[0m \u001b[0;32mas\u001b[0m \u001b[0mnp\u001b[0m\u001b[0;34m\u001b[0m\u001b[0;34m\u001b[0m\u001b[0m\n\u001b[1;32m      7\u001b[0m \u001b[0;32mimport\u001b[0m \u001b[0mos\u001b[0m\u001b[0;34m\u001b[0m\u001b[0;34m\u001b[0m\u001b[0m\n\u001b[0;32m----> 8\u001b[0;31m \u001b[0;32mfrom\u001b[0m \u001b[0mchannel\u001b[0m \u001b[0;32mimport\u001b[0m \u001b[0mchannelFlows\u001b[0m \u001b[0;32mas\u001b[0m \u001b[0mcf\u001b[0m\u001b[0;34m\u001b[0m\u001b[0;34m\u001b[0m\u001b[0m\n\u001b[0m\u001b[1;32m      9\u001b[0m \u001b[0;34m\u001b[0m\u001b[0m\n\u001b[1;32m     10\u001b[0m \u001b[0mplt\u001b[0m\u001b[0;34m.\u001b[0m\u001b[0mrcParams\u001b[0m\u001b[0;34m[\u001b[0m\u001b[0;34m'animation.html'\u001b[0m\u001b[0;34m]\u001b[0m \u001b[0;34m=\u001b[0m \u001b[0;34m'html5'\u001b[0m\u001b[0;34m\u001b[0m\u001b[0;34m\u001b[0m\u001b[0m\n",
      "\u001b[0;31mModuleNotFoundError\u001b[0m: No module named 'channel'"
     ]
    }
   ],
   "source": [
    "%matplotlib inline\n",
    "import matplotlib.pyplot as plt\n",
    "from matplotlib import animation\n",
    "from matplotlib.ticker import (StrMethodFormatter, AutoMinorLocator, MultipleLocator)\n",
    "\n",
    "import numpy as np\n",
    "import os\n",
    "from channel import channelFlows as cf\n",
    "\n",
    "plt.rcParams['animation.html'] = 'html5'\n",
    "\n",
    "fig = plt.figure(dpi=120,tight_layout=True);\n",
    "ax = fig.gca()\n",
    "ax.grid();\n",
    "ax.set_aspect('equal');\n",
    "ax.grid(which='major', alpha=0.5, zorder=6);\n",
    "\n",
    "import numpy as np\n",
    "Sm = 0.01\n",
    "Sp = 0.5\n",
    "x = np.linspace(-1,1,100)\n",
    "deltaT = 0.01\n",
    "Nt=200\n",
    "N=10\n",
    "xmin = 0\n",
    "xmax = 1.5\n",
    "ymin = -1.0\n",
    "ymax = 1.0\n",
    "from matplotlib import pyplot, transforms\n",
    "\n",
    "# first of all, the base transformation of the data points is needed\n",
    "base = pyplot.gca().transData\n",
    "rot = transforms.Affine2D().rotate_deg(-90)\n",
    "                   \n",
    "def plot(ax, t):\n",
    "    ax.clear()\n",
    "    ax.set_aspect('equal', 'box')\n",
    "    ax.set_title('Analytic solution $S_+=' + str(Sp) + '$, $S_-='+str(Sm)+'$')\n",
    "    ax.grid(which='major', alpha=0.5, zorder=6);\n",
    "    ax.set_xlim([xmin,xmax])\n",
    "    ax.set_ylim([ymin,ymax])\n",
    "    ax.set_xlabel('$v_x$')\n",
    "    ax.set_ylabel('$y$')\n",
    "    \n",
    "    loc=(1.05,0.8)\n",
    "#    ax.annotate('t=' + str(round(t,2)) + 's', xy=loc , xytext=loc)\n",
    "    ax.annotate('t='+'{:1.2f}'.format(t) + 's', xy=loc)\n",
    "    v = cf.navierSlip_scaled(t, x, Sp, Sm, N)\n",
    "    ax.plot(x, v, linestyle='-', color='black', transform = rot + base)\n",
    "    \n",
    "def init():\n",
    "    plot(ax,0)\n",
    "    return ()\n",
    "\n",
    "# animation function.  This is called sequentially\n",
    "def animate(n):\n",
    "    plot(ax,n*deltaT)\n",
    "    return ()\n",
    "\n",
    "# call the animator.  blit=True means only re-draw the parts that have changed.\n",
    "anim = animation.FuncAnimation(fig, animate, init_func=init,\n",
    "                               frames=Nt, interval=100, blit=True)\n",
    "plt.close(anim._fig)\n",
    "anim.save(os.path.join(os.getcwd(), 'videos', f'slipVelocity_{Sp:3.2f}_{Sm:3.2f}.mp4'))\n",
    "anim"
   ]
  }
 ],
 "metadata": {
  "hide_input": false,
  "kernelspec": {
   "display_name": "Python 3",
   "language": "python",
   "name": "python3"
  },
  "language_info": {
   "codemirror_mode": {
    "name": "ipython",
    "version": 3
   },
   "file_extension": ".py",
   "mimetype": "text/x-python",
   "name": "python",
   "nbconvert_exporter": "python",
   "pygments_lexer": "ipython3",
   "version": "3.8.3"
  },
  "toc": {
   "base_numbering": 1,
   "nav_menu": {},
   "number_sections": true,
   "sideBar": true,
   "skip_h1_title": false,
   "title_cell": "Table of Contents",
   "title_sidebar": "Contents",
   "toc_cell": false,
   "toc_position": {},
   "toc_section_display": true,
   "toc_window_display": false
  },
  "varInspector": {
   "cols": {
    "lenName": 16,
    "lenType": 16,
    "lenVar": 40
   },
   "kernels_config": {
    "python": {
     "delete_cmd_postfix": "",
     "delete_cmd_prefix": "del ",
     "library": "var_list.py",
     "varRefreshCmd": "print(var_dic_list())"
    },
    "r": {
     "delete_cmd_postfix": ") ",
     "delete_cmd_prefix": "rm(",
     "library": "var_list.r",
     "varRefreshCmd": "cat(var_dic_list()) "
    }
   },
   "types_to_exclude": [
    "module",
    "function",
    "builtin_function_or_method",
    "instance",
    "_Feature"
   ],
   "window_display": false
  }
 },
 "nbformat": 4,
 "nbformat_minor": 2
}
